{
 "cells": [
  {
   "cell_type": "code",
   "execution_count": 2,
   "id": "f2ffef02-1978-4f08-b733-5904a28931f9",
   "metadata": {},
   "outputs": [],
   "source": [
    "import sys \n",
    "import keyword \n",
    "import operator \n",
    "from datetime import datetime \n",
    "import os"
   ]
  },
  {
   "cell_type": "code",
   "execution_count": 3,
   "id": "58edf669-0ecf-46e3-9873-64b71340e79e",
   "metadata": {},
   "outputs": [
    {
     "name": "stdout",
     "output_type": "stream",
     "text": [
      "['False', 'None', 'True', 'and', 'as', 'assert', 'async', 'await', 'break', 'class', 'continue', 'def', 'del', 'elif', 'else', 'except', 'finally', 'for', 'from', 'global', 'if', 'import', 'in', 'is', 'lambda', 'nonlocal', 'not', 'or', 'pass', 'raise', 'return', 'try', 'while', 'with', 'yield']\n"
     ]
    }
   ],
   "source": [
    "print(keyword.kwlist)"
   ]
  },
  {
   "cell_type": "code",
   "execution_count": 4,
   "id": "005c5f37-d9de-436e-acef-cb2a3d81ecb7",
   "metadata": {},
   "outputs": [
    {
     "data": {
      "text/plain": [
       "35"
      ]
     },
     "execution_count": 4,
     "metadata": {},
     "output_type": "execute_result"
    }
   ],
   "source": [
    "len(keyword.kwlist)"
   ]
  },
  {
   "cell_type": "markdown",
   "id": "6f5ef934-c7b1-4de1-b7a5-c7c37cadf584",
   "metadata": {},
   "source": [
    "Identifiers"
   ]
  },
  {
   "cell_type": "code",
   "execution_count": 5,
   "id": "fddb7aad-bf0f-46d8-b3e1-88a19940ac9a",
   "metadata": {},
   "outputs": [
    {
     "ename": "SyntaxError",
     "evalue": "invalid decimal literal (4256868957.py, line 1)",
     "output_type": "error",
     "traceback": [
      "  \u001b[36mCell\u001b[39m\u001b[36m \u001b[39m\u001b[32mIn[5]\u001b[39m\u001b[32m, line 1\u001b[39m\n\u001b[31m    \u001b[39m\u001b[31m1var = 10\u001b[39m\n    ^\n\u001b[31mSyntaxError\u001b[39m\u001b[31m:\u001b[39m invalid decimal literal\n"
     ]
    }
   ],
   "source": [
    "1var = 10"
   ]
  },
  {
   "cell_type": "code",
   "execution_count": 6,
   "id": "5bb519a0-756b-454e-8b64-b9f2051a0c4e",
   "metadata": {},
   "outputs": [
    {
     "ename": "SyntaxError",
     "evalue": "invalid syntax (4112743472.py, line 1)",
     "output_type": "error",
     "traceback": [
      "  \u001b[36mCell\u001b[39m\u001b[36m \u001b[39m\u001b[32mIn[6]\u001b[39m\u001b[32m, line 1\u001b[39m\n\u001b[31m    \u001b[39m\u001b[31mval2@ = 35\u001b[39m\n          ^\n\u001b[31mSyntaxError\u001b[39m\u001b[31m:\u001b[39m invalid syntax\n"
     ]
    }
   ],
   "source": [
    "val2@ = 35 "
   ]
  },
  {
   "cell_type": "code",
   "execution_count": 7,
   "id": "66a6fe31-5fa0-4b28-bba1-3ffbc2a208d2",
   "metadata": {},
   "outputs": [
    {
     "ename": "SyntaxError",
     "evalue": "invalid syntax (14826938.py, line 1)",
     "output_type": "error",
     "traceback": [
      "  \u001b[36mCell\u001b[39m\u001b[36m \u001b[39m\u001b[32mIn[7]\u001b[39m\u001b[32m, line 1\u001b[39m\n\u001b[31m    \u001b[39m\u001b[31mimport = 125\u001b[39m\n           ^\n\u001b[31mSyntaxError\u001b[39m\u001b[31m:\u001b[39m invalid syntax\n"
     ]
    }
   ],
   "source": [
    "import = 125 "
   ]
  },
  {
   "cell_type": "code",
   "execution_count": 9,
   "id": "48e97b59-d635-4dc9-b9e5-89dd190db58b",
   "metadata": {},
   "outputs": [],
   "source": [
    "\"\"\" \"\"\"\n",
    "val2 = 10"
   ]
  },
  {
   "cell_type": "code",
   "execution_count": 11,
   "id": "623f423d-1f42-485d-b972-33435e418fc9",
   "metadata": {},
   "outputs": [],
   "source": [
    "val_ = 99"
   ]
  },
  {
   "cell_type": "markdown",
   "id": "aac4d176-af24-4c92-97d7-986c3433831b",
   "metadata": {},
   "source": [
    "# Copmments in python"
   ]
  },
  {
   "cell_type": "code",
   "execution_count": 15,
   "id": "8fe8acb1-0bdb-4108-abd0-8d8bb6331904",
   "metadata": {},
   "outputs": [
    {
     "data": {
      "text/plain": [
       "'10'"
      ]
     },
     "execution_count": 15,
     "metadata": {},
     "output_type": "execute_result"
    }
   ],
   "source": [
    "val1 = '10'\n",
    "val1"
   ]
  },
  {
   "cell_type": "code",
   "execution_count": 16,
   "id": "0882d2b1-2ab5-4b0f-b708-1c40dd5e01b6",
   "metadata": {},
   "outputs": [
    {
     "data": {
      "text/plain": [
       "'10'"
      ]
     },
     "execution_count": 16,
     "metadata": {},
     "output_type": "execute_result"
    }
   ],
   "source": [
    "val1 = \"10\"\n",
    "val1"
   ]
  },
  {
   "cell_type": "code",
   "execution_count": 18,
   "id": "ae78c81d-4048-4404-bd36-f8d464edb169",
   "metadata": {},
   "outputs": [
    {
     "data": {
      "text/plain": [
       "'10'"
      ]
     },
     "execution_count": 18,
     "metadata": {},
     "output_type": "execute_result"
    }
   ],
   "source": [
    "vl1 = ''' 10 '''\n",
    "val1"
   ]
  },
  {
   "cell_type": "markdown",
   "id": "fb9f8912-2ba7-44c9-8afe-e4ee931d98b2",
   "metadata": {},
   "source": [
    "#Statement"
   ]
  },
  {
   "cell_type": "code",
   "execution_count": 19,
   "id": "6cbcc049-417a-443a-bb02-c74e9f93e354",
   "metadata": {},
   "outputs": [
    {
     "data": {
      "text/plain": [
       "(20, int, '0x7ffb3d434608')"
      ]
     },
     "execution_count": 19,
     "metadata": {},
     "output_type": "execute_result"
    }
   ],
   "source": [
    "p = 20\n",
    "q = 20\n",
    "r = q\n",
    "p , type (p), hex(id(p))"
   ]
  },
  {
   "cell_type": "code",
   "execution_count": 21,
   "id": "b643e8f5-8cd6-4a0e-9158-ceb17126b01d",
   "metadata": {},
   "outputs": [
    {
     "data": {
      "text/plain": [
       "(20, int, '0x7ffb3d434608')"
      ]
     },
     "execution_count": 21,
     "metadata": {},
     "output_type": "execute_result"
    }
   ],
   "source": [
    "q , type (q), hex (id(q))"
   ]
  },
  {
   "cell_type": "code",
   "execution_count": 22,
   "id": "317e2b82-6ada-4070-95d0-eab6e9381b8d",
   "metadata": {},
   "outputs": [
    {
     "data": {
      "text/plain": [
       "(20, int, '0x7ffb3d434608')"
      ]
     },
     "execution_count": 22,
     "metadata": {},
     "output_type": "execute_result"
    }
   ],
   "source": [
    "r , type(r), hex(id(r))"
   ]
  },
  {
   "cell_type": "code",
   "execution_count": 23,
   "id": "91d16143-67d5-4891-b5c8-ca112af6fcff",
   "metadata": {},
   "outputs": [
    {
     "data": {
      "text/plain": [
       "30"
      ]
     },
     "execution_count": 23,
     "metadata": {},
     "output_type": "execute_result"
    }
   ],
   "source": [
    "p = 20 \n",
    "p = p + 10\n",
    "p"
   ]
  },
  {
   "cell_type": "markdown",
   "id": "ddb178b5-1909-4565-9fd8-35fadc9271aa",
   "metadata": {},
   "source": [
    "# Variable Assigment"
   ]
  },
  {
   "cell_type": "code",
   "execution_count": 26,
   "id": "c953fb49-229f-404c-b402-b573a3a465e1",
   "metadata": {},
   "outputs": [
    {
     "name": "stdout",
     "output_type": "stream",
     "text": [
      "10\n",
      "2.57\n",
      "Python Language\n"
     ]
    }
   ],
   "source": [
    "intvar = 10\n",
    "floatvar = 2.57\n",
    "strvar = \"Python Language\"\n",
    "\n",
    "print(intvar)\n",
    "print(floatvar)\n",
    "print(strvar)"
   ]
  },
  {
   "cell_type": "code",
   "execution_count": 29,
   "id": "4fe48913-8045-4de6-80d1-1c7796ec67ec",
   "metadata": {},
   "outputs": [
    {
     "name": "stdout",
     "output_type": "stream",
     "text": [
      "10\n",
      "2.57\n",
      "Python language\n"
     ]
    }
   ],
   "source": [
    "intvar , floatvar , strvar = 10,2.57,\"Python language\"\n",
    "\n",
    "print(intvar)\n",
    "print(floatvar)\n",
    "print(strvar)"
   ]
  },
  {
   "cell_type": "code",
   "execution_count": 30,
   "id": "e280f1bb-1f97-4f3b-a363-fb1bf2b6ef99",
   "metadata": {},
   "outputs": [
    {
     "name": "stdout",
     "output_type": "stream",
     "text": [
      "44 44 44 44\n"
     ]
    }
   ],
   "source": [
    "p1 = p2 = p3 = p4 = 44\n",
    "print(p1,p2,p3,p4)"
   ]
  },
  {
   "cell_type": "markdown",
   "id": "a25adc3a-6231-474c-bafc-2d8942e5603f",
   "metadata": {},
   "source": [
    "# Data Types\n",
    "\n",
    "\n",
    "Numeric"
   ]
  },
  {
   "cell_type": "code",
   "execution_count": 31,
   "id": "9aa15e83-ba41-433c-8a96-502d7f1fe448",
   "metadata": {},
   "outputs": [
    {
     "name": "stdout",
     "output_type": "stream",
     "text": [
      "10\n",
      "<class 'int'>\n",
      "28\n",
      "10 is Integer? True\n"
     ]
    }
   ],
   "source": [
    "val1 = 10\n",
    "print(val1)\n",
    "print(type(val1))\n",
    "print(sys .getsizeof(val1))\n",
    "print(val1,\"is Integer?\", isinstance (val1, int))"
   ]
  },
  {
   "cell_type": "code",
   "execution_count": 32,
   "id": "443bd538-e1b0-4b06-b762-e73493b0025d",
   "metadata": {},
   "outputs": [
    {
     "name": "stdout",
     "output_type": "stream",
     "text": [
      "92.78\n",
      "<class 'float'>\n",
      "24\n",
      "92.78  is float? True\n"
     ]
    }
   ],
   "source": [
    "val2 = 92.78 \n",
    "print(val2) \n",
    "print(type(val2)) \n",
    "print(sys.getsizeof(val2)) \n",
    "print(val2, \" is float?\", isinstance(val2, float))"
   ]
  },
  {
   "cell_type": "code",
   "execution_count": 34,
   "id": "cf894032-9fef-4760-b128-7f52a6c045f2",
   "metadata": {},
   "outputs": [
    {
     "name": "stdout",
     "output_type": "stream",
     "text": [
      "(25+10j)\n",
      "<class 'complex'>\n",
      "32\n",
      "(25+10j)  is complex? True\n"
     ]
    }
   ],
   "source": [
    "val3 = 25 + 10j\n",
    "print(val3)\n",
    "print(type(val3))\n",
    "print(sys.getsizeof(val3))\n",
    "print(val3, \" is complex?\", isinstance(val3, complex))"
   ]
  },
  {
   "cell_type": "code",
   "execution_count": 35,
   "id": "26dcc508-6c2d-4e7a-b87a-fdc7664e0e9c",
   "metadata": {},
   "outputs": [
    {
     "data": {
      "text/plain": [
       "28"
      ]
     },
     "execution_count": 35,
     "metadata": {},
     "output_type": "execute_result"
    }
   ],
   "source": [
    "sys.getsizeof(int()) "
   ]
  },
  {
   "cell_type": "code",
   "execution_count": 36,
   "id": "34385407-50bb-465c-bb70-934924c9d619",
   "metadata": {},
   "outputs": [
    {
     "data": {
      "text/plain": [
       "24"
      ]
     },
     "execution_count": 36,
     "metadata": {},
     "output_type": "execute_result"
    }
   ],
   "source": [
    "sys.getsizeof(float())"
   ]
  },
  {
   "cell_type": "code",
   "execution_count": 37,
   "id": "69f6a26a-d5e8-4145-b19d-199b3f0aa81d",
   "metadata": {},
   "outputs": [
    {
     "data": {
      "text/plain": [
       "32"
      ]
     },
     "execution_count": 37,
     "metadata": {},
     "output_type": "execute_result"
    }
   ],
   "source": [
    "sys.getsizeof(complex()) "
   ]
  },
  {
   "cell_type": "markdown",
   "id": "efa33aa3-c3b5-406c-979a-1e9069ada3a4",
   "metadata": {},
   "source": [
    "# Boolean"
   ]
  },
  {
   "cell_type": "code",
   "execution_count": 39,
   "id": "caa0b13c-7e6d-46ea-b357-ce1292d4f554",
   "metadata": {},
   "outputs": [],
   "source": [
    "bool1 = True"
   ]
  },
  {
   "cell_type": "code",
   "execution_count": 40,
   "id": "bf7738e8-94e9-4eed-83e0-e32a68dff967",
   "metadata": {},
   "outputs": [],
   "source": [
    "bool2 = False "
   ]
  },
  {
   "cell_type": "code",
   "execution_count": 41,
   "id": "77ce30f2-6957-4ff2-8485-49d66a1fd3ab",
   "metadata": {},
   "outputs": [
    {
     "name": "stdout",
     "output_type": "stream",
     "text": [
      "<class 'bool'>\n"
     ]
    }
   ],
   "source": [
    "print(type(bool1)) "
   ]
  },
  {
   "cell_type": "code",
   "execution_count": 42,
   "id": "76b8025c-d5b8-46f9-9732-25aeeefdd203",
   "metadata": {},
   "outputs": [
    {
     "name": "stdout",
     "output_type": "stream",
     "text": [
      "<class 'bool'>\n"
     ]
    }
   ],
   "source": [
    "print(type(bool2))"
   ]
  },
  {
   "cell_type": "code",
   "execution_count": 43,
   "id": "c3579b8e-b446-41c7-a94b-ee852bb79cc4",
   "metadata": {},
   "outputs": [
    {
     "data": {
      "text/plain": [
       "True"
      ]
     },
     "execution_count": 43,
     "metadata": {},
     "output_type": "execute_result"
    }
   ],
   "source": [
    "isinstance(bool1, bool) "
   ]
  },
  {
   "cell_type": "code",
   "execution_count": 44,
   "id": "beb9c2a9-b6e9-4379-b5d3-6fe0cbc5e856",
   "metadata": {},
   "outputs": [
    {
     "data": {
      "text/plain": [
       "False"
      ]
     },
     "execution_count": 44,
     "metadata": {},
     "output_type": "execute_result"
    }
   ],
   "source": [
    "bool(0) "
   ]
  },
  {
   "cell_type": "code",
   "execution_count": 45,
   "id": "6752195b-e0e6-4c20-8d6e-fd9f7d6f15f7",
   "metadata": {},
   "outputs": [
    {
     "data": {
      "text/plain": [
       "True"
      ]
     },
     "execution_count": 45,
     "metadata": {},
     "output_type": "execute_result"
    }
   ],
   "source": [
    "bool(1)"
   ]
  },
  {
   "cell_type": "code",
   "execution_count": 46,
   "id": "ef1f8b65-9cd9-4977-b38a-1b80c79f4d84",
   "metadata": {},
   "outputs": [
    {
     "data": {
      "text/plain": [
       "False"
      ]
     },
     "execution_count": 46,
     "metadata": {},
     "output_type": "execute_result"
    }
   ],
   "source": [
    " bool(None) "
   ]
  },
  {
   "cell_type": "code",
   "execution_count": 47,
   "id": "a6564b60-91cf-4ed6-ad57-6cb049b1260a",
   "metadata": {},
   "outputs": [
    {
     "data": {
      "text/plain": [
       "False"
      ]
     },
     "execution_count": 47,
     "metadata": {},
     "output_type": "execute_result"
    }
   ],
   "source": [
    "bool (False) "
   ]
  },
  {
   "cell_type": "markdown",
   "id": "9f23a04a-0646-44ee-9639-481d4bfa38a4",
   "metadata": {},
   "source": [
    "Strings"
   ]
  },
  {
   "cell_type": "markdown",
   "id": "edfb57b6-2f60-4bd2-bf20-089a874184c2",
   "metadata": {},
   "source": [
    "# String Creation"
   ]
  },
  {
   "cell_type": "code",
   "execution_count": 50,
   "id": "a6c72946-c6a8-4e80-a22a-f43b136b7c41",
   "metadata": {},
   "outputs": [
    {
     "name": "stdout",
     "output_type": "stream",
     "text": [
      "HELLO PYTHON\n"
     ]
    }
   ],
   "source": [
    "str1 = \"HELLO PYTHON\" \n",
    "print(str1) "
   ]
  },
  {
   "cell_type": "code",
   "execution_count": 51,
   "id": "0ad4c9f4-45ff-4587-857b-5721c70d12c0",
   "metadata": {},
   "outputs": [
    {
     "name": "stdout",
     "output_type": "stream",
     "text": [
      "Hello World\n"
     ]
    }
   ],
   "source": [
    "mystr = 'Hello World'\n",
    "print(mystr)"
   ]
  },
  {
   "cell_type": "code",
   "execution_count": 52,
   "id": "e366139a-6f31-4d86-9803-21b005f728fa",
   "metadata": {},
   "outputs": [
    {
     "name": "stdout",
     "output_type": "stream",
     "text": [
      "Hello World\n"
     ]
    }
   ],
   "source": [
    "mystr = \"Hello World\"\n",
    "print(mystr)"
   ]
  },
  {
   "cell_type": "code",
   "execution_count": 53,
   "id": "750a4f03-9e1c-4102-8946-a9300f50442a",
   "metadata": {},
   "outputs": [
    {
     "name": "stdout",
     "output_type": "stream",
     "text": [
      "Helllo\n",
      "             World\n"
     ]
    }
   ],
   "source": [
    "mystr= '''Helllo\n",
    "             World'''\n",
    "print(mystr)"
   ]
  },
  {
   "cell_type": "code",
   "execution_count": 54,
   "id": "9251f4b0-34c7-4222-8470-ff911fb98ab7",
   "metadata": {},
   "outputs": [
    {
     "name": "stdout",
     "output_type": "stream",
     "text": [
      "Hello \n",
      "           World\n"
     ]
    }
   ],
   "source": [
    "mystr = \"\"\"Hello \n",
    "           World\"\"\"\n",
    "print(mystr)"
   ]
  },
  {
   "cell_type": "code",
   "execution_count": 56,
   "id": "22825c5d-f845-445d-ae14-afac6dd5229e",
   "metadata": {},
   "outputs": [
    {
     "name": "stdout",
     "output_type": "stream",
     "text": [
      "HappyMondayEveryone\n"
     ]
    }
   ],
   "source": [
    "mystr = ('Happy'\n",
    "                'Monday'\n",
    "                      'Everyone')\n",
    "print(mystr)"
   ]
  },
  {
   "cell_type": "code",
   "execution_count": 58,
   "id": "7073788a-a17a-4f58-8847-2c7a9a261b55",
   "metadata": {},
   "outputs": [
    {
     "data": {
      "text/plain": [
       "' Woohoo  Woohoo  Woohoo  Woohoo  Woohoo '"
      ]
     },
     "execution_count": 58,
     "metadata": {},
     "output_type": "execute_result"
    }
   ],
   "source": [
    "mystr2 = ' Woohoo ' \n",
    "mystr2 = mystr2*5 \n",
    "mystr2"
   ]
  },
  {
   "cell_type": "code",
   "execution_count": 59,
   "id": "ef661f91-caa6-41e4-a845-885351d4002d",
   "metadata": {},
   "outputs": [
    {
     "data": {
      "text/plain": [
       "40"
      ]
     },
     "execution_count": 59,
     "metadata": {},
     "output_type": "execute_result"
    }
   ],
   "source": [
    "len(mystr2) "
   ]
  },
  {
   "cell_type": "markdown",
   "id": "fd48d737-e21f-4f64-a130-32804acdacec",
   "metadata": {},
   "source": [
    "# String Indexing"
   ]
  },
  {
   "cell_type": "code",
   "execution_count": 61,
   "id": "332d236a-6b10-46f9-8c97-4b19e9f9ae5c",
   "metadata": {},
   "outputs": [
    {
     "data": {
      "text/plain": [
       "'HELLO PYTHON'"
      ]
     },
     "execution_count": 61,
     "metadata": {},
     "output_type": "execute_result"
    }
   ],
   "source": [
    "str1 "
   ]
  },
  {
   "cell_type": "code",
   "execution_count": 62,
   "id": "d093e7b5-3e39-4a24-82cf-7e32015bcc08",
   "metadata": {},
   "outputs": [
    {
     "data": {
      "text/plain": [
       "'H'"
      ]
     },
     "execution_count": 62,
     "metadata": {},
     "output_type": "execute_result"
    }
   ],
   "source": [
    "str1[0]"
   ]
  },
  {
   "cell_type": "code",
   "execution_count": 63,
   "id": "0f31552e-814f-4375-83dd-fdb2a645835b",
   "metadata": {},
   "outputs": [
    {
     "data": {
      "text/plain": [
       "'N'"
      ]
     },
     "execution_count": 63,
     "metadata": {},
     "output_type": "execute_result"
    }
   ],
   "source": [
    "str1[len(str1)-1]"
   ]
  },
  {
   "cell_type": "code",
   "execution_count": 64,
   "id": "3451c750-d7d1-4051-9f81-1df7fb04a98b",
   "metadata": {},
   "outputs": [
    {
     "data": {
      "text/plain": [
       "'N'"
      ]
     },
     "execution_count": 64,
     "metadata": {},
     "output_type": "execute_result"
    }
   ],
   "source": [
    "str1[-1]"
   ]
  },
  {
   "cell_type": "code",
   "execution_count": 65,
   "id": "f6619be1-4209-469b-8af8-dbea117bfbee",
   "metadata": {},
   "outputs": [
    {
     "data": {
      "text/plain": [
       "'P'"
      ]
     },
     "execution_count": 65,
     "metadata": {},
     "output_type": "execute_result"
    }
   ],
   "source": [
    "str1[6] "
   ]
  },
  {
   "cell_type": "code",
   "execution_count": 66,
   "id": "e3783dee-524e-4f19-be10-7bfd8705d036",
   "metadata": {},
   "outputs": [
    {
     "data": {
      "text/plain": [
       "' '"
      ]
     },
     "execution_count": 66,
     "metadata": {},
     "output_type": "execute_result"
    }
   ],
   "source": [
    "str1[5] "
   ]
  },
  {
   "cell_type": "markdown",
   "id": "d07008cd-9315-4c93-b544-0a3708c0efed",
   "metadata": {},
   "source": [
    "# String Slicing"
   ]
  },
  {
   "cell_type": "code",
   "execution_count": 67,
   "id": "c48cf597-7f81-49e2-9650-04d8645177e7",
   "metadata": {},
   "outputs": [
    {
     "data": {
      "text/plain": [
       "'HELLO'"
      ]
     },
     "execution_count": 67,
     "metadata": {},
     "output_type": "execute_result"
    }
   ],
   "source": [
    "str1[0:5]"
   ]
  },
  {
   "cell_type": "code",
   "execution_count": 68,
   "id": "397dda02-b66e-4a1e-8a40-c2b71113db45",
   "metadata": {},
   "outputs": [
    {
     "data": {
      "text/plain": [
       "'PYTHON'"
      ]
     },
     "execution_count": 68,
     "metadata": {},
     "output_type": "execute_result"
    }
   ],
   "source": [
    "str1[6:12]"
   ]
  },
  {
   "cell_type": "code",
   "execution_count": 69,
   "id": "f1776433-5629-4972-8d38-dd734c571bc7",
   "metadata": {},
   "outputs": [
    {
     "data": {
      "text/plain": [
       "'THON'"
      ]
     },
     "execution_count": 69,
     "metadata": {},
     "output_type": "execute_result"
    }
   ],
   "source": [
    "\n",
    "str1[-4:]"
   ]
  },
  {
   "cell_type": "code",
   "execution_count": 70,
   "id": "390ab9d6-036a-45dd-ace0-4b3c8567fce1",
   "metadata": {},
   "outputs": [
    {
     "data": {
      "text/plain": [
       "'PYTHON'"
      ]
     },
     "execution_count": 70,
     "metadata": {},
     "output_type": "execute_result"
    }
   ],
   "source": [
    "str1[-6:]"
   ]
  },
  {
   "cell_type": "code",
   "execution_count": 71,
   "id": "a4fab870-f09f-4cff-b0ec-198a505138dc",
   "metadata": {},
   "outputs": [
    {
     "data": {
      "text/plain": [
       "'HELL'"
      ]
     },
     "execution_count": 71,
     "metadata": {},
     "output_type": "execute_result"
    }
   ],
   "source": [
    "str1[:4]"
   ]
  },
  {
   "cell_type": "code",
   "execution_count": 72,
   "id": "d7626aa0-bcc8-4c1e-842d-4f402a1bea77",
   "metadata": {},
   "outputs": [
    {
     "data": {
      "text/plain": [
       "'HELLO '"
      ]
     },
     "execution_count": 72,
     "metadata": {},
     "output_type": "execute_result"
    }
   ],
   "source": [
    "str1[:6]"
   ]
  },
  {
   "cell_type": "markdown",
   "id": "e8eae004-e516-4738-bf7c-ff0af2577b1d",
   "metadata": {},
   "source": [
    "# Update & Delete String"
   ]
  },
  {
   "cell_type": "code",
   "execution_count": 73,
   "id": "7445228c-bb81-4d15-85cb-9d3a5fcbe1b5",
   "metadata": {},
   "outputs": [
    {
     "ename": "TypeError",
     "evalue": "'str' object does not support item assignment",
     "output_type": "error",
     "traceback": [
      "\u001b[31m---------------------------------------------------------------------------\u001b[39m",
      "\u001b[31mTypeError\u001b[39m                                 Traceback (most recent call last)",
      "\u001b[36mCell\u001b[39m\u001b[36m \u001b[39m\u001b[32mIn[73]\u001b[39m\u001b[32m, line 1\u001b[39m\n\u001b[32m----> \u001b[39m\u001b[32m1\u001b[39m \u001b[43mstr1\u001b[49m\u001b[43m[\u001b[49m\u001b[32;43m0\u001b[39;49m\u001b[43m:\u001b[49m\u001b[32;43m5\u001b[39;49m\u001b[43m]\u001b[49m = \u001b[33m'\u001b[39m\u001b[33mHOLAA\u001b[39m\u001b[33m'\u001b[39m\n",
      "\u001b[31mTypeError\u001b[39m: 'str' object does not support item assignment"
     ]
    }
   ],
   "source": [
    "str1[0:5] = 'HOLAA'"
   ]
  },
  {
   "cell_type": "code",
   "execution_count": 74,
   "id": "5d059796-c3d8-48b4-8d5a-4c7b71b498f0",
   "metadata": {},
   "outputs": [
    {
     "ename": "NameError",
     "evalue": "name 'srt1' is not defined",
     "output_type": "error",
     "traceback": [
      "\u001b[31m---------------------------------------------------------------------------\u001b[39m",
      "\u001b[31mNameError\u001b[39m                                 Traceback (most recent call last)",
      "\u001b[36mCell\u001b[39m\u001b[36m \u001b[39m\u001b[32mIn[74]\u001b[39m\u001b[32m, line 2\u001b[39m\n\u001b[32m      1\u001b[39m \u001b[38;5;28;01mdel\u001b[39;00m str1 \n\u001b[32m----> \u001b[39m\u001b[32m2\u001b[39m \u001b[38;5;28mprint\u001b[39m(\u001b[43msrt1\u001b[49m) \n",
      "\u001b[31mNameError\u001b[39m: name 'srt1' is not defined"
     ]
    }
   ],
   "source": [
    "del str1 \n",
    "print(srt1) "
   ]
  },
  {
   "cell_type": "markdown",
   "id": "c2aedf08-f67c-4849-b366-8bb8d0b0e9d6",
   "metadata": {},
   "source": [
    "#String concatenation"
   ]
  },
  {
   "cell_type": "code",
   "execution_count": 75,
   "id": "c28378a3-b9d3-433e-8fc6-23028f16a2af",
   "metadata": {},
   "outputs": [
    {
     "name": "stdout",
     "output_type": "stream",
     "text": [
      "HelloAsif\n"
     ]
    }
   ],
   "source": [
    "s1 = \"Hello\" \n",
    "s2 = \"Asif\" \n",
    "s3 = s1 + s2 \n",
    "print(s3)"
   ]
  },
  {
   "cell_type": "code",
   "execution_count": 76,
   "id": "0ef99b74-4fc7-45fb-b13d-6180df7601d1",
   "metadata": {},
   "outputs": [
    {
     "data": {
      "text/plain": [
       "'abc def ghi '"
      ]
     },
     "execution_count": 76,
     "metadata": {},
     "output_type": "execute_result"
    }
   ],
   "source": [
    "txt = \" abc def ghi \" \n",
    " \n",
    "txt.lstrip()"
   ]
  },
  {
   "cell_type": "code",
   "execution_count": 77,
   "id": "c58a37e3-d0fb-4299-8fb5-10258b1ec766",
   "metadata": {},
   "outputs": [
    {
     "data": {
      "text/plain": [
       "'abc def ghi'"
      ]
     },
     "execution_count": 77,
     "metadata": {},
     "output_type": "execute_result"
    }
   ],
   "source": [
    "txt = \" abc def ghi \" \n",
    " \n",
    "txt.strip() "
   ]
  },
  {
   "cell_type": "markdown",
   "id": "49bd5915-582f-4c13-b2bc-ada1d1ad3b2f",
   "metadata": {},
   "source": [
    "# Using Escape Character "
   ]
  },
  {
   "cell_type": "code",
   "execution_count": 78,
   "id": "463dec0c-2e79-4598-8f84-997d28262a5e",
   "metadata": {},
   "outputs": [
    {
     "ename": "SyntaxError",
     "evalue": "invalid syntax (2258141415.py, line 1)",
     "output_type": "error",
     "traceback": [
      "  \u001b[36mCell\u001b[39m\u001b[36m \u001b[39m\u001b[32mIn[78]\u001b[39m\u001b[32m, line 1\u001b[39m\n\u001b[31m    \u001b[39m\u001b[31mmystr = \"My favourite TV Series is \"Game of Thrones\"\"\u001b[39m\n                                        ^\n\u001b[31mSyntaxError\u001b[39m\u001b[31m:\u001b[39m invalid syntax\n"
     ]
    }
   ],
   "source": [
    "mystr = \"My favourite TV Series is \"Game of Thrones\"\" "
   ]
  },
  {
   "cell_type": "code",
   "execution_count": 79,
   "id": "f1c677c6-3dad-4a2e-b4eb-cbefb057ca5e",
   "metadata": {},
   "outputs": [
    {
     "name": "stdout",
     "output_type": "stream",
     "text": [
      "My favourite series is \"Game of Thrones\"\n"
     ]
    }
   ],
   "source": [
    "mystr = \"My favourite series is \\\"Game of Thrones\\\"\" \n",
    "print(mystr) "
   ]
  },
  {
   "cell_type": "markdown",
   "id": "e0d0076f-9ebd-4a12-b10e-3af8f7bcc22e",
   "metadata": {},
   "source": [
    "List"
   ]
  },
  {
   "cell_type": "markdown",
   "id": "1d3106f1-426c-49ac-87d1-296079782f72",
   "metadata": {},
   "source": [
    "# List Creation"
   ]
  },
  {
   "cell_type": "code",
   "execution_count": 82,
   "id": "1d81c674-0b80-467b-8dde-0679affe0212",
   "metadata": {},
   "outputs": [],
   "source": [
    "list1 = [] "
   ]
  },
  {
   "cell_type": "code",
   "execution_count": 83,
   "id": "f4e946ed-0c85-4db4-8b3a-81d82c0cb156",
   "metadata": {},
   "outputs": [
    {
     "name": "stdout",
     "output_type": "stream",
     "text": [
      "<class 'list'>\n"
     ]
    }
   ],
   "source": [
    "print(type(list1)) "
   ]
  },
  {
   "cell_type": "code",
   "execution_count": 84,
   "id": "fbd77d4d-f0a5-4bf0-95e2-af9e3e70f387",
   "metadata": {},
   "outputs": [],
   "source": [
    "list2 = [10,30,60] "
   ]
  },
  {
   "cell_type": "code",
   "execution_count": 86,
   "id": "98d867ba-6ab7-4728-ac15-857a55cd5372",
   "metadata": {},
   "outputs": [],
   "source": [
    "list3 = [10.77,30.66,60.89] "
   ]
  },
  {
   "cell_type": "code",
   "execution_count": 87,
   "id": "685f2b11-490e-49cc-8826-99ea442704f8",
   "metadata": {},
   "outputs": [],
   "source": [
    "list4 = ['one','two' , \"three\"]"
   ]
  },
  {
   "cell_type": "code",
   "execution_count": 88,
   "id": "e267f088-9493-4338-be2e-47dda0234bc6",
   "metadata": {},
   "outputs": [],
   "source": [
    "list5 = ['Asif', 25 ,[50, 100],[150, 90]] "
   ]
  },
  {
   "cell_type": "code",
   "execution_count": 89,
   "id": "44fca680-0fdd-4e54-8995-227a0c2157e9",
   "metadata": {},
   "outputs": [],
   "source": [
    "list6 = [100, 'Asif', 17.765]"
   ]
  },
  {
   "cell_type": "code",
   "execution_count": 90,
   "id": "86a74aed-0eab-4839-9c0e-fb431a1d4edc",
   "metadata": {},
   "outputs": [],
   "source": [
    "list7 = ['Asif', 25 ,[50, 100],[150, 90] , {'John' , 'David'}]"
   ]
  },
  {
   "cell_type": "code",
   "execution_count": 91,
   "id": "a8c8e8ce-34b7-49a1-8a06-355fcadc146e",
   "metadata": {},
   "outputs": [
    {
     "data": {
      "text/plain": [
       "3"
      ]
     },
     "execution_count": 91,
     "metadata": {},
     "output_type": "execute_result"
    }
   ],
   "source": [
    "len(list6)"
   ]
  },
  {
   "cell_type": "code",
   "execution_count": 92,
   "id": "6d53bb88-d44e-4c52-8c35-d69815739ded",
   "metadata": {},
   "outputs": [
    {
     "data": {
      "text/plain": [
       "5"
      ]
     },
     "execution_count": 92,
     "metadata": {},
     "output_type": "execute_result"
    }
   ],
   "source": [
    "len(list7)"
   ]
  },
  {
   "cell_type": "markdown",
   "id": "15cfb44e-fd5e-4786-9013-d81f93991dbf",
   "metadata": {},
   "source": [
    "# lIST INDEXING"
   ]
  },
  {
   "cell_type": "code",
   "execution_count": 94,
   "id": "7d1dd74b-6976-4be3-a25a-35af9bd0e800",
   "metadata": {},
   "outputs": [
    {
     "data": {
      "text/plain": [
       "10"
      ]
     },
     "execution_count": 94,
     "metadata": {},
     "output_type": "execute_result"
    }
   ],
   "source": [
    "list2[0] "
   ]
  },
  {
   "cell_type": "code",
   "execution_count": 98,
   "id": "f08b1b48-109f-4b2d-83d2-6ac3934ecdbd",
   "metadata": {},
   "outputs": [
    {
     "data": {
      "text/plain": [
       "'one'"
      ]
     },
     "execution_count": 98,
     "metadata": {},
     "output_type": "execute_result"
    }
   ],
   "source": [
    "list4[0] "
   ]
  },
  {
   "cell_type": "code",
   "execution_count": 95,
   "id": "ff2befdf-1f5d-4d0a-93a1-790c246abc2f",
   "metadata": {},
   "outputs": [
    {
     "data": {
      "text/plain": [
       "'o'"
      ]
     },
     "execution_count": 95,
     "metadata": {},
     "output_type": "execute_result"
    }
   ],
   "source": [
    "list4[0][0] "
   ]
  },
  {
   "cell_type": "code",
   "execution_count": 96,
   "id": "f9950514-c91a-4ce1-a113-63b6e97c97fb",
   "metadata": {},
   "outputs": [
    {
     "data": {
      "text/plain": [
       "'three'"
      ]
     },
     "execution_count": 96,
     "metadata": {},
     "output_type": "execute_result"
    }
   ],
   "source": [
    "list4[-1]"
   ]
  },
  {
   "cell_type": "code",
   "execution_count": 97,
   "id": "14808622-6b50-4e1b-90bd-3972e99a8b15",
   "metadata": {},
   "outputs": [
    {
     "data": {
      "text/plain": [
       "[150, 90]"
      ]
     },
     "execution_count": 97,
     "metadata": {},
     "output_type": "execute_result"
    }
   ],
   "source": [
    "list5[-1]"
   ]
  },
  {
   "cell_type": "markdown",
   "id": "c49b2e94-d77b-4baf-a6ae-deeb7393f1b3",
   "metadata": {},
   "source": [
    "# LIST SLICING"
   ]
  },
  {
   "cell_type": "code",
   "execution_count": 100,
   "id": "70441262-bebd-4ef3-b4af-784e7067c115",
   "metadata": {},
   "outputs": [],
   "source": [
    "mylist = ['one' , 'two' , 'three' , 'four' , 'five' , 'six' , 'seven' , 'eight'] "
   ]
  },
  {
   "cell_type": "code",
   "execution_count": 101,
   "id": "70144657-3c3d-4065-8476-247455a14082",
   "metadata": {},
   "outputs": [
    {
     "data": {
      "text/plain": [
       "['one', 'two', 'three']"
      ]
     },
     "execution_count": 101,
     "metadata": {},
     "output_type": "execute_result"
    }
   ],
   "source": [
    "mylist[0:3] "
   ]
  },
  {
   "cell_type": "code",
   "execution_count": 102,
   "id": "d9ba319d-2bdb-43f3-b3bf-6c356af4b017",
   "metadata": {},
   "outputs": [
    {
     "data": {
      "text/plain": [
       "['three', 'four', 'five']"
      ]
     },
     "execution_count": 102,
     "metadata": {},
     "output_type": "execute_result"
    }
   ],
   "source": [
    "mylist[2:5]"
   ]
  },
  {
   "cell_type": "code",
   "execution_count": 103,
   "id": "653248d2-7227-480a-a0e4-fe8b432fba2f",
   "metadata": {},
   "outputs": [
    {
     "data": {
      "text/plain": [
       "['one', 'two', 'three']"
      ]
     },
     "execution_count": 103,
     "metadata": {},
     "output_type": "execute_result"
    }
   ],
   "source": [
    "mylist[:3] "
   ]
  },
  {
   "cell_type": "code",
   "execution_count": 104,
   "id": "e80e94b5-2e6d-4d53-9848-0bdc8537d84b",
   "metadata": {},
   "outputs": [
    {
     "data": {
      "text/plain": [
       "['one', 'two']"
      ]
     },
     "execution_count": 104,
     "metadata": {},
     "output_type": "execute_result"
    }
   ],
   "source": [
    "mylist[:2]"
   ]
  },
  {
   "cell_type": "code",
   "execution_count": 105,
   "id": "82ff0d4d-f83b-4d18-8ea4-49d0aa5fff7c",
   "metadata": {},
   "outputs": [
    {
     "data": {
      "text/plain": [
       "['six', 'seven', 'eight']"
      ]
     },
     "execution_count": 105,
     "metadata": {},
     "output_type": "execute_result"
    }
   ],
   "source": [
    "mylist[-3:]"
   ]
  },
  {
   "cell_type": "code",
   "execution_count": 106,
   "id": "5eb084b2-971b-4daa-a402-3baeef65997c",
   "metadata": {},
   "outputs": [
    {
     "data": {
      "text/plain": [
       "['seven', 'eight']"
      ]
     },
     "execution_count": 106,
     "metadata": {},
     "output_type": "execute_result"
    }
   ],
   "source": [
    "mylist[-2:]"
   ]
  },
  {
   "cell_type": "code",
   "execution_count": 107,
   "id": "63f63b7b-b106-4785-b647-d0b1e79bccf4",
   "metadata": {},
   "outputs": [
    {
     "data": {
      "text/plain": [
       "'eight'"
      ]
     },
     "execution_count": 107,
     "metadata": {},
     "output_type": "execute_result"
    }
   ],
   "source": [
    "mylist[-1]"
   ]
  },
  {
   "cell_type": "code",
   "execution_count": 108,
   "id": "f0611d04-a2fb-475f-b30e-46ccc477a849",
   "metadata": {},
   "outputs": [
    {
     "data": {
      "text/plain": [
       "['one', 'two', 'three', 'four', 'five', 'six', 'seven', 'eight']"
      ]
     },
     "execution_count": 108,
     "metadata": {},
     "output_type": "execute_result"
    }
   ],
   "source": [
    "mylist[:] "
   ]
  },
  {
   "cell_type": "markdown",
   "id": "fae20f1f-0ce0-41b3-978e-6431e9f2ea9b",
   "metadata": {},
   "source": [
    "# Add , Remove & Change Items "
   ]
  },
  {
   "cell_type": "code",
   "execution_count": 109,
   "id": "4cb1b6c3-e67c-4976-90e5-afb67d5db0e4",
   "metadata": {},
   "outputs": [
    {
     "data": {
      "text/plain": [
       "['one', 'two', 'three', 'four', 'five', 'six', 'seven', 'eight']"
      ]
     },
     "execution_count": 109,
     "metadata": {},
     "output_type": "execute_result"
    }
   ],
   "source": [
    "mylist "
   ]
  },
  {
   "cell_type": "code",
   "execution_count": 110,
   "id": "fa60ee0a-0d17-4669-bb01-997a427ba4cf",
   "metadata": {},
   "outputs": [
    {
     "data": {
      "text/plain": [
       "['one', 'two', 'three', 'four', 'five', 'six', 'seven', 'eight', 'nine']"
      ]
     },
     "execution_count": 110,
     "metadata": {},
     "output_type": "execute_result"
    }
   ],
   "source": [
    "mylist.append('nine')\n",
    "mylist"
   ]
  },
  {
   "cell_type": "code",
   "execution_count": 111,
   "id": "e1c1a386-1012-42e7-9969-ec113b2ab240",
   "metadata": {},
   "outputs": [
    {
     "data": {
      "text/plain": [
       "['one', 'two', 'three', 'four', 'five', 'six', 'seven', 'eight', 'nine', 'ten']"
      ]
     },
     "execution_count": 111,
     "metadata": {},
     "output_type": "execute_result"
    }
   ],
   "source": [
    "mylist.insert(9,'ten')\n",
    "mylist"
   ]
  },
  {
   "cell_type": "code",
   "execution_count": 113,
   "id": "f81acfed-b4b3-447c-a2e6-21efa59bc835",
   "metadata": {},
   "outputs": [
    {
     "data": {
      "text/plain": [
       "['one',\n",
       " 'ONE',\n",
       " 'ONE',\n",
       " 'two',\n",
       " 'three',\n",
       " 'four',\n",
       " 'five',\n",
       " 'six',\n",
       " 'seven',\n",
       " 'eight',\n",
       " 'nine',\n",
       " 'ten']"
      ]
     },
     "execution_count": 113,
     "metadata": {},
     "output_type": "execute_result"
    }
   ],
   "source": [
    "mylist.insert(1,'ONE')\n",
    "mylist"
   ]
  },
  {
   "cell_type": "code",
   "execution_count": 114,
   "id": "703c44d0-7f18-4425-8442-735837b03884",
   "metadata": {},
   "outputs": [
    {
     "data": {
      "text/plain": [
       "['one',\n",
       " 'ONE',\n",
       " 'two',\n",
       " 'three',\n",
       " 'four',\n",
       " 'five',\n",
       " 'six',\n",
       " 'seven',\n",
       " 'eight',\n",
       " 'nine',\n",
       " 'ten']"
      ]
     },
     "execution_count": 114,
     "metadata": {},
     "output_type": "execute_result"
    }
   ],
   "source": [
    "mylist.remove('ONE')\n",
    "mylist"
   ]
  },
  {
   "cell_type": "code",
   "execution_count": 115,
   "id": "38353f6b-5f2b-4188-be9c-89ffc979370f",
   "metadata": {},
   "outputs": [
    {
     "data": {
      "text/plain": [
       "['one', 'two', 'three', 'four', 'five', 'six', 'seven', 'eight', 'nine', 'ten']"
      ]
     },
     "execution_count": 115,
     "metadata": {},
     "output_type": "execute_result"
    }
   ],
   "source": [
    "mylist.remove('ONE')\n",
    "mylist"
   ]
  },
  {
   "cell_type": "code",
   "execution_count": 116,
   "id": "5ecaf2d9-e9f2-4d53-894d-957d2666d872",
   "metadata": {},
   "outputs": [
    {
     "data": {
      "text/plain": [
       "['one', 'two', 'three', 'four', 'five', 'six', 'seven', 'eight', 'nine']"
      ]
     },
     "execution_count": 116,
     "metadata": {},
     "output_type": "execute_result"
    }
   ],
   "source": [
    "mylist.pop()\n",
    "mylist "
   ]
  },
  {
   "cell_type": "code",
   "execution_count": 117,
   "id": "f47297f0-7fc4-4c07-976d-e2576a37d222",
   "metadata": {},
   "outputs": [
    {
     "data": {
      "text/plain": [
       "['one', 'two', 'three', 'four', 'five', 'six', 'seven', 'eight']"
      ]
     },
     "execution_count": 117,
     "metadata": {},
     "output_type": "execute_result"
    }
   ],
   "source": [
    "mylist.pop(8)\n",
    "mylist"
   ]
  },
  {
   "cell_type": "code",
   "execution_count": 118,
   "id": "c4b65dbf-5318-4378-96e2-4254c0fb3071",
   "metadata": {},
   "outputs": [
    {
     "data": {
      "text/plain": [
       "['one', 'two', 'three', 'four', 'five', 'six', 'seven']"
      ]
     },
     "execution_count": 118,
     "metadata": {},
     "output_type": "execute_result"
    }
   ],
   "source": [
    "del mylist[7]\n",
    "mylist"
   ]
  },
  {
   "cell_type": "code",
   "execution_count": 119,
   "id": "eadfd72d-5ac9-49bf-bf32-ccd608c299f8",
   "metadata": {},
   "outputs": [
    {
     "data": {
      "text/plain": [
       "[1, 2, 3, 'four', 'five', 'six', 'seven']"
      ]
     },
     "execution_count": 119,
     "metadata": {},
     "output_type": "execute_result"
    }
   ],
   "source": [
    "mylist[0] = 1 \n",
    "mylist[1] = 2 \n",
    "mylist[2] = 3 \n",
    "mylist   "
   ]
  },
  {
   "cell_type": "code",
   "execution_count": 120,
   "id": "b614d143-cfce-4181-91e5-f532845e7294",
   "metadata": {},
   "outputs": [
    {
     "data": {
      "text/plain": [
       "[]"
      ]
     },
     "execution_count": 120,
     "metadata": {},
     "output_type": "execute_result"
    }
   ],
   "source": [
    "mylist.clear()\n",
    "mylist"
   ]
  },
  {
   "cell_type": "code",
   "execution_count": 121,
   "id": "bf61e2ea-3806-4532-970f-38b2963cb4df",
   "metadata": {},
   "outputs": [
    {
     "ename": "NameError",
     "evalue": "name 'mylist' is not defined",
     "output_type": "error",
     "traceback": [
      "\u001b[31m---------------------------------------------------------------------------\u001b[39m",
      "\u001b[31mNameError\u001b[39m                                 Traceback (most recent call last)",
      "\u001b[36mCell\u001b[39m\u001b[36m \u001b[39m\u001b[32mIn[121]\u001b[39m\u001b[32m, line 2\u001b[39m\n\u001b[32m      1\u001b[39m \u001b[38;5;28;01mdel\u001b[39;00m mylist\n\u001b[32m----> \u001b[39m\u001b[32m2\u001b[39m \u001b[43mmylist\u001b[49m\n",
      "\u001b[31mNameError\u001b[39m: name 'mylist' is not defined"
     ]
    }
   ],
   "source": [
    "del mylist\n",
    "mylist"
   ]
  },
  {
   "cell_type": "markdown",
   "id": "13e41a9b-8ef0-461b-8444-4f021c90a127",
   "metadata": {},
   "source": [
    "# COPY LIST"
   ]
  },
  {
   "cell_type": "code",
   "execution_count": 133,
   "id": "2f8c07cb-4921-40d7-a8c6-7fab61e676af",
   "metadata": {},
   "outputs": [
    {
     "ename": "_IncompleteInputError",
     "evalue": "incomplete input (4100354392.py, line 1)",
     "output_type": "error",
     "traceback": [
      "  \u001b[36mCell\u001b[39m\u001b[36m \u001b[39m\u001b[32mIn[133]\u001b[39m\u001b[32m, line 1\u001b[39m\n\u001b[31m    \u001b[39m\u001b[31mmylist = ['one', 'two', 'three', 'four', 'five', 'six', 'seven', 'eight', 'nine'\u001b[39m\n                                                                                    ^\n\u001b[31m_IncompleteInputError\u001b[39m\u001b[31m:\u001b[39m incomplete input\n"
     ]
    }
   ],
   "source": [
    "mylist = ['one', 'two', 'three', 'four', 'five', 'six', 'seven', 'eight', 'nine'"
   ]
  },
  {
   "cell_type": "code",
   "execution_count": 134,
   "id": "54ef37ed-d6a9-4218-b411-92dba42fc53e",
   "metadata": {},
   "outputs": [
    {
     "ename": "NameError",
     "evalue": "name 'mylist' is not defined",
     "output_type": "error",
     "traceback": [
      "\u001b[31m---------------------------------------------------------------------------\u001b[39m",
      "\u001b[31mNameError\u001b[39m                                 Traceback (most recent call last)",
      "\u001b[36mCell\u001b[39m\u001b[36m \u001b[39m\u001b[32mIn[134]\u001b[39m\u001b[32m, line 1\u001b[39m\n\u001b[32m----> \u001b[39m\u001b[32m1\u001b[39m mylist1 = \u001b[43mmylist\u001b[49m\n",
      "\u001b[31mNameError\u001b[39m: name 'mylist' is not defined"
     ]
    }
   ],
   "source": [
    "mylist1 = mylist"
   ]
  },
  {
   "cell_type": "code",
   "execution_count": 135,
   "id": "ad7e2942-c3bf-4cbe-898f-60b38eea95fc",
   "metadata": {},
   "outputs": [
    {
     "ename": "NameError",
     "evalue": "name 'mylist' is not defined",
     "output_type": "error",
     "traceback": [
      "\u001b[31m---------------------------------------------------------------------------\u001b[39m",
      "\u001b[31mNameError\u001b[39m                                 Traceback (most recent call last)",
      "\u001b[36mCell\u001b[39m\u001b[36m \u001b[39m\u001b[32mIn[135]\u001b[39m\u001b[32m, line 1\u001b[39m\n\u001b[32m----> \u001b[39m\u001b[32m1\u001b[39m \u001b[38;5;28mid\u001b[39m(\u001b[43mmylist\u001b[49m) , \u001b[38;5;28mid\u001b[39m(mylist1)\n",
      "\u001b[31mNameError\u001b[39m: name 'mylist' is not defined"
     ]
    }
   ],
   "source": [
    "id(mylist) , id(mylist1)"
   ]
  },
  {
   "cell_type": "code",
   "execution_count": 136,
   "id": "60755f14-ddea-4127-8b8b-d8d05f20e05c",
   "metadata": {},
   "outputs": [
    {
     "ename": "NameError",
     "evalue": "name 'mylist' is not defined",
     "output_type": "error",
     "traceback": [
      "\u001b[31m---------------------------------------------------------------------------\u001b[39m",
      "\u001b[31mNameError\u001b[39m                                 Traceback (most recent call last)",
      "\u001b[36mCell\u001b[39m\u001b[36m \u001b[39m\u001b[32mIn[136]\u001b[39m\u001b[32m, line 1\u001b[39m\n\u001b[32m----> \u001b[39m\u001b[32m1\u001b[39m mylist2 = \u001b[43mmylist\u001b[49m.copy()\n",
      "\u001b[31mNameError\u001b[39m: name 'mylist' is not defined"
     ]
    }
   ],
   "source": [
    "mylist2 = mylist.copy()"
   ]
  },
  {
   "cell_type": "code",
   "execution_count": 137,
   "id": "66b4b999-a1a4-45a1-a915-2d2b52f4dd47",
   "metadata": {},
   "outputs": [
    {
     "ename": "NameError",
     "evalue": "name 'mylist2' is not defined",
     "output_type": "error",
     "traceback": [
      "\u001b[31m---------------------------------------------------------------------------\u001b[39m",
      "\u001b[31mNameError\u001b[39m                                 Traceback (most recent call last)",
      "\u001b[36mCell\u001b[39m\u001b[36m \u001b[39m\u001b[32mIn[137]\u001b[39m\u001b[32m, line 1\u001b[39m\n\u001b[32m----> \u001b[39m\u001b[32m1\u001b[39m \u001b[38;5;28mid\u001b[39m(\u001b[43mmylist2\u001b[49m)\n",
      "\u001b[31mNameError\u001b[39m: name 'mylist2' is not defined"
     ]
    }
   ],
   "source": [
    "id(mylist2)"
   ]
  },
  {
   "cell_type": "markdown",
   "id": "14c61b14-839a-430c-b4cd-d4fd4d5a0a71",
   "metadata": {},
   "source": [
    "# join List"
   ]
  },
  {
   "cell_type": "code",
   "execution_count": 139,
   "id": "a4ce07dd-5125-41fb-b45a-a2beffaa1d4c",
   "metadata": {},
   "outputs": [],
   "source": [
    "list1 = ['one', 'two', 'three', 'four'] \n",
    "list2 = ['five', 'six', 'seven', 'eight'] "
   ]
  },
  {
   "cell_type": "code",
   "execution_count": 140,
   "id": "3f414ec9-1c24-4bcc-97a0-a5b6ca19d546",
   "metadata": {},
   "outputs": [
    {
     "data": {
      "text/plain": [
       "['one', 'two', 'three', 'four', 'five', 'six', 'seven', 'eight']"
      ]
     },
     "execution_count": 140,
     "metadata": {},
     "output_type": "execute_result"
    }
   ],
   "source": [
    "list3 = list1 + list2 \n",
    "list3"
   ]
  },
  {
   "cell_type": "code",
   "execution_count": 141,
   "id": "52582c12-70ad-45c9-b1b9-79433d64e0ad",
   "metadata": {},
   "outputs": [
    {
     "data": {
      "text/plain": [
       "['one', 'two', 'three', 'four', 'five', 'six', 'seven', 'eight']"
      ]
     },
     "execution_count": 141,
     "metadata": {},
     "output_type": "execute_result"
    }
   ],
   "source": [
    "list1.extend(list2)\n",
    "list1"
   ]
  },
  {
   "cell_type": "markdown",
   "id": "9a56e774-8918-4cf8-b53c-9f0d461ff681",
   "metadata": {},
   "source": [
    "# List Membership"
   ]
  },
  {
   "cell_type": "code",
   "execution_count": 142,
   "id": "23b2fd24-46f7-42e1-8cd4-c138a593943b",
   "metadata": {},
   "outputs": [
    {
     "data": {
      "text/plain": [
       "['one', 'two', 'three', 'four', 'five', 'six', 'seven', 'eight']"
      ]
     },
     "execution_count": 142,
     "metadata": {},
     "output_type": "execute_result"
    }
   ],
   "source": [
    "list1 "
   ]
  },
  {
   "cell_type": "code",
   "execution_count": 143,
   "id": "438f6b8b-b837-407b-b637-0bff0d83f8df",
   "metadata": {},
   "outputs": [
    {
     "data": {
      "text/plain": [
       "True"
      ]
     },
     "execution_count": 143,
     "metadata": {},
     "output_type": "execute_result"
    }
   ],
   "source": [
    "'one' in list1 "
   ]
  },
  {
   "cell_type": "code",
   "execution_count": 144,
   "id": "6f012b8a-d4d6-418c-8145-9122031d015d",
   "metadata": {},
   "outputs": [
    {
     "data": {
      "text/plain": [
       "False"
      ]
     },
     "execution_count": 144,
     "metadata": {},
     "output_type": "execute_result"
    }
   ],
   "source": [
    "'ten' in list1"
   ]
  },
  {
   "cell_type": "code",
   "execution_count": 145,
   "id": "a6bfd432-9d9e-4364-8d9e-0e6649e94540",
   "metadata": {},
   "outputs": [
    {
     "name": "stdout",
     "output_type": "stream",
     "text": [
      "Three is present in the list\n"
     ]
    }
   ],
   "source": [
    "if 'three' in list1:\n",
    "    print('Three is present in the list') \n",
    "else:\n",
    "    print('Three is not present in the list') "
   ]
  },
  {
   "cell_type": "code",
   "execution_count": 147,
   "id": "818cd988-4afc-400e-a538-12485f4e4334",
   "metadata": {},
   "outputs": [
    {
     "name": "stdout",
     "output_type": "stream",
     "text": [
      "eleven is not present in the list\n"
     ]
    }
   ],
   "source": [
    "if 'eleven' in list1:\n",
    "    print('eleven is present in the list') \n",
    "else: \n",
    "     print('eleven is not present in the list')    "
   ]
  },
  {
   "cell_type": "markdown",
   "id": "7016218e-bae0-49d5-860c-13ae7d897924",
   "metadata": {},
   "source": [
    "# Reverse & Sort List"
   ]
  },
  {
   "cell_type": "code",
   "execution_count": 148,
   "id": "583bead4-5ef6-4695-a616-51696dc967c7",
   "metadata": {},
   "outputs": [
    {
     "data": {
      "text/plain": [
       "['one', 'two', 'three', 'four', 'five', 'six', 'seven', 'eight']"
      ]
     },
     "execution_count": 148,
     "metadata": {},
     "output_type": "execute_result"
    }
   ],
   "source": [
    "list1 "
   ]
  },
  {
   "cell_type": "code",
   "execution_count": 149,
   "id": "f954e753-3422-4b3b-8192-bb3d162c075a",
   "metadata": {},
   "outputs": [
    {
     "data": {
      "text/plain": [
       "['eight', 'seven', 'six', 'five', 'four', 'three', 'two', 'one']"
      ]
     },
     "execution_count": 149,
     "metadata": {},
     "output_type": "execute_result"
    }
   ],
   "source": [
    "list1.reverse()\n",
    "list1"
   ]
  },
  {
   "cell_type": "code",
   "execution_count": 150,
   "id": "6b156f7e-bf5c-4d86-bf2a-3bab89ea2c30",
   "metadata": {},
   "outputs": [
    {
     "data": {
      "text/plain": [
       "['one', 'two', 'three', 'four', 'five', 'six', 'seven', 'eight']"
      ]
     },
     "execution_count": 150,
     "metadata": {},
     "output_type": "execute_result"
    }
   ],
   "source": [
    "list1 = list1[::-1]\n",
    "list1"
   ]
  },
  {
   "cell_type": "code",
   "execution_count": 151,
   "id": "349e49a6-ef1a-4674-829c-6b0b2034b87c",
   "metadata": {},
   "outputs": [
    {
     "data": {
      "text/plain": [
       "[2, 5, 9, 12, 34, 88, 99]"
      ]
     },
     "execution_count": 151,
     "metadata": {},
     "output_type": "execute_result"
    }
   ],
   "source": [
    "mylist3 = [9,5,2,99,12,88,34]\n",
    "mylist3.sort()\n",
    "mylist3"
   ]
  },
  {
   "cell_type": "code",
   "execution_count": 152,
   "id": "20d5a418-e599-424f-96b2-483eeab3ef3d",
   "metadata": {},
   "outputs": [
    {
     "data": {
      "text/plain": [
       "[99, 88, 34, 12, 9, 5, 2]"
      ]
     },
     "execution_count": 152,
     "metadata": {},
     "output_type": "execute_result"
    }
   ],
   "source": [
    "mylist3 = [9,5,2,99,12,88,34] \n",
    "mylist3.sort(reverse=True) \n",
    "mylist3"
   ]
  },
  {
   "cell_type": "code",
   "execution_count": 153,
   "id": "2c07cfeb-bba5-43bc-b11f-eabbd2aae7ef",
   "metadata": {},
   "outputs": [
    {
     "data": {
      "text/plain": [
       "[11, 21, 33, 65, 88, 98]"
      ]
     },
     "execution_count": 153,
     "metadata": {},
     "output_type": "execute_result"
    }
   ],
   "source": [
    "mylist4 = [88,65,33,21,11,98] \n",
    "sorted(mylist4) "
   ]
  },
  {
   "cell_type": "code",
   "execution_count": 154,
   "id": "4a98e201-bb93-40f2-844a-82d9b35d160b",
   "metadata": {},
   "outputs": [
    {
     "data": {
      "text/plain": [
       "[88, 65, 33, 21, 11, 98]"
      ]
     },
     "execution_count": 154,
     "metadata": {},
     "output_type": "execute_result"
    }
   ],
   "source": [
    "mylist4"
   ]
  },
  {
   "cell_type": "markdown",
   "id": "ceaf3375-8094-45dc-9d57-96313ab44a22",
   "metadata": {},
   "source": [
    "# Loop through a list"
   ]
  },
  {
   "cell_type": "code",
   "execution_count": 158,
   "id": "a36da4eb-04b3-4d38-9ca9-240f2791507d",
   "metadata": {},
   "outputs": [
    {
     "data": {
      "text/plain": [
       "['one', 'two', 'three', 'four', 'five', 'six', 'seven', 'eight']"
      ]
     },
     "execution_count": 158,
     "metadata": {},
     "output_type": "execute_result"
    }
   ],
   "source": [
    "list1 "
   ]
  },
  {
   "cell_type": "code",
   "execution_count": 164,
   "id": "7626454a-3edb-4c36-9651-def0e46b4511",
   "metadata": {},
   "outputs": [
    {
     "name": "stdout",
     "output_type": "stream",
     "text": [
      "one\n",
      "two\n",
      "three\n",
      "four\n",
      "five\n",
      "six\n",
      "seven\n",
      "eight\n"
     ]
    }
   ],
   "source": [
    "for i in list1: \n",
    "     print(i) "
   ]
  },
  {
   "cell_type": "code",
   "execution_count": 165,
   "id": "a1b1e894-b331-46a9-8d48-97bc9104737b",
   "metadata": {},
   "outputs": [
    {
     "name": "stdout",
     "output_type": "stream",
     "text": [
      "(0, 'one')\n",
      "(1, 'two')\n",
      "(2, 'three')\n",
      "(3, 'four')\n",
      "(4, 'five')\n",
      "(5, 'six')\n",
      "(6, 'seven')\n",
      "(7, 'eight')\n"
     ]
    }
   ],
   "source": [
    "for i in enumerate(list1): \n",
    "      print(i)"
   ]
  },
  {
   "cell_type": "code",
   "execution_count": 166,
   "id": "6281d562-2bab-4a20-8195-646db205b56d",
   "metadata": {},
   "outputs": [],
   "source": [
    "list10 =['one', 'two', 'three', 'four', 'one', 'one', 'two', 'three'] "
   ]
  },
  {
   "cell_type": "code",
   "execution_count": 167,
   "id": "97077226-2886-4d3f-9ed7-6a49fd63ba6f",
   "metadata": {},
   "outputs": [
    {
     "data": {
      "text/plain": [
       "3"
      ]
     },
     "execution_count": 167,
     "metadata": {},
     "output_type": "execute_result"
    }
   ],
   "source": [
    "list10.count('one')"
   ]
  },
  {
   "cell_type": "code",
   "execution_count": 168,
   "id": "3248f7d6-f01d-4dc9-9794-ed1157e73d5d",
   "metadata": {},
   "outputs": [
    {
     "data": {
      "text/plain": [
       "2"
      ]
     },
     "execution_count": 168,
     "metadata": {},
     "output_type": "execute_result"
    }
   ],
   "source": [
    "list10.count('two')"
   ]
  },
  {
   "cell_type": "code",
   "execution_count": 169,
   "id": "44f2a25d-daac-45b1-9a90-434f5e10e4af",
   "metadata": {},
   "outputs": [
    {
     "data": {
      "text/plain": [
       "1"
      ]
     },
     "execution_count": 169,
     "metadata": {},
     "output_type": "execute_result"
    }
   ],
   "source": [
    "list10.count('four')"
   ]
  },
  {
   "cell_type": "markdown",
   "id": "91004b62-999e-48ec-8eea-2605106ce221",
   "metadata": {},
   "source": [
    "# ALL / Any"
   ]
  },
  {
   "cell_type": "code",
   "execution_count": 171,
   "id": "91b494c8-fae8-4328-a17b-d265dfab3e07",
   "metadata": {},
   "outputs": [],
   "source": [
    "L1 = [1,2,3,4,0] "
   ]
  },
  {
   "cell_type": "code",
   "execution_count": 176,
   "id": "b0289bcc-dfb9-49cc-80f0-8744edd946b7",
   "metadata": {},
   "outputs": [
    {
     "data": {
      "text/plain": [
       "False"
      ]
     },
     "execution_count": 176,
     "metadata": {},
     "output_type": "execute_result"
    }
   ],
   "source": [
    "all(L1)"
   ]
  },
  {
   "cell_type": "code",
   "execution_count": 177,
   "id": "ac2747c0-f89d-4ca2-b2b4-a5260c0e7aea",
   "metadata": {},
   "outputs": [
    {
     "data": {
      "text/plain": [
       "True"
      ]
     },
     "execution_count": 177,
     "metadata": {},
     "output_type": "execute_result"
    }
   ],
   "source": [
    "any(L1)"
   ]
  },
  {
   "cell_type": "code",
   "execution_count": 173,
   "id": "0a174a5d-4a37-43aa-b60d-6979d68e2ee8",
   "metadata": {},
   "outputs": [],
   "source": [
    "L2 = [1,2,3,4,True,False]"
   ]
  },
  {
   "cell_type": "code",
   "execution_count": 174,
   "id": "711753d0-fbb5-4cbe-82ac-75d5a6b66c21",
   "metadata": {},
   "outputs": [
    {
     "data": {
      "text/plain": [
       "False"
      ]
     },
     "execution_count": 174,
     "metadata": {},
     "output_type": "execute_result"
    }
   ],
   "source": [
    "all(L2) "
   ]
  },
  {
   "cell_type": "code",
   "execution_count": 175,
   "id": "14653779-d9b7-4d6b-b970-6e66c3e48cb6",
   "metadata": {},
   "outputs": [
    {
     "data": {
      "text/plain": [
       "True"
      ]
     },
     "execution_count": 175,
     "metadata": {},
     "output_type": "execute_result"
    }
   ],
   "source": [
    "any(L2) "
   ]
  },
  {
   "cell_type": "code",
   "execution_count": 178,
   "id": "1ccbb95b-dfce-4f9d-958d-994abc647b71",
   "metadata": {},
   "outputs": [],
   "source": [
    "L3 = [1,2,3,True] "
   ]
  },
  {
   "cell_type": "code",
   "execution_count": 179,
   "id": "a9394463-beaf-4b89-aea1-b216ebda81f9",
   "metadata": {},
   "outputs": [
    {
     "data": {
      "text/plain": [
       "True"
      ]
     },
     "execution_count": 179,
     "metadata": {},
     "output_type": "execute_result"
    }
   ],
   "source": [
    "all(L3)"
   ]
  },
  {
   "cell_type": "code",
   "execution_count": null,
   "id": "3c44e464-914a-42c3-81de-cf2627e4ce01",
   "metadata": {},
   "outputs": [],
   "source": []
  }
 ],
 "metadata": {
  "kernelspec": {
   "display_name": "Python 3 (ipykernel)",
   "language": "python",
   "name": "python3"
  },
  "language_info": {
   "codemirror_mode": {
    "name": "ipython",
    "version": 3
   },
   "file_extension": ".py",
   "mimetype": "text/x-python",
   "name": "python",
   "nbconvert_exporter": "python",
   "pygments_lexer": "ipython3",
   "version": "3.13.5"
  }
 },
 "nbformat": 4,
 "nbformat_minor": 5
}
